{
  "nbformat": 4,
  "nbformat_minor": 0,
  "metadata": {
    "colab": {
      "provenance": [],
      "authorship_tag": "ABX9TyNUEgLstyS5nmYYJi0pgzSk",
      "include_colab_link": true
    },
    "kernelspec": {
      "name": "python3",
      "display_name": "Python 3"
    },
    "language_info": {
      "name": "python"
    }
  },
  "cells": [
    {
      "cell_type": "markdown",
      "metadata": {
        "id": "view-in-github",
        "colab_type": "text"
      },
      "source": [
        "<a href=\"https://colab.research.google.com/github/LeiteJrr/Information-Gathering-Report/blob/main/SWIFTSAFE_Individual_Project.ipynb\" target=\"_parent\"><img src=\"https://colab.research.google.com/assets/colab-badge.svg\" alt=\"Open In Colab\"/></a>"
      ]
    },
    {
      "cell_type": "code",
      "source": [
        "import random\n",
        "\n",
        "# List of popular domain names\n",
        "domains = ['amazon.com', 'stockx.com', 'ebay.com', 'etsy.com', 'nytimes.com', 'github.com']\n",
        "\n",
        "# Function to generate random URLs\n",
        "def generate_random_urls(num_urls):\n",
        "    random_urls = []\n",
        "    for _ in range(num_urls):\n",
        "        domain = random.choice(domains)\n",
        "        random_url = f\"https://www.{domain}\"\n",
        "        random_urls.append(random_url)\n",
        "    return random_urls\n",
        "\n",
        "# Number of random URLs to generate\n",
        "num_urls = 5\n",
        "\n",
        "# Generate random URLs\n",
        "random_urls = generate_random_urls(num_urls)\n",
        "\n",
        "# Print the random URLs\n",
        "for url in random_urls:\n",
        "    print(url)\n"
      ],
      "metadata": {
        "colab": {
          "base_uri": "https://localhost:8080/"
        },
        "id": "yHW6FwTtATY_",
        "outputId": "696674c6-bd9c-4eb7-e4bd-5f346d773dcc"
      },
      "execution_count": null,
      "outputs": [
        {
          "output_type": "stream",
          "name": "stdout",
          "text": [
            "https://www.amazon.com\n",
            "https://www.github.com\n",
            "https://www.stockx.com\n",
            "https://www.etsy.com\n",
            "https://www.github.com\n"
          ]
        }
      ]
    },
    {
      "cell_type": "code",
      "source": [
        "!pip install requests beautifulsoup4\n"
      ],
      "metadata": {
        "colab": {
          "base_uri": "https://localhost:8080/"
        },
        "id": "SZqJp2pedSY9",
        "outputId": "eef6807b-b2d2-47dd-8b51-d42bed8d9204"
      },
      "execution_count": null,
      "outputs": [
        {
          "output_type": "stream",
          "name": "stdout",
          "text": [
            "Requirement already satisfied: requests in /usr/local/lib/python3.10/dist-packages (2.31.0)\n",
            "Requirement already satisfied: beautifulsoup4 in /usr/local/lib/python3.10/dist-packages (4.12.3)\n",
            "Requirement already satisfied: charset-normalizer<4,>=2 in /usr/local/lib/python3.10/dist-packages (from requests) (3.3.2)\n",
            "Requirement already satisfied: idna<4,>=2.5 in /usr/local/lib/python3.10/dist-packages (from requests) (3.7)\n",
            "Requirement already satisfied: urllib3<3,>=1.21.1 in /usr/local/lib/python3.10/dist-packages (from requests) (2.0.7)\n",
            "Requirement already satisfied: certifi>=2017.4.17 in /usr/local/lib/python3.10/dist-packages (from requests) (2024.6.2)\n",
            "Requirement already satisfied: soupsieve>1.2 in /usr/local/lib/python3.10/dist-packages (from beautifulsoup4) (2.5)\n"
          ]
        }
      ]
    },
    {
      "cell_type": "code",
      "source": [
        "!pip install dnspython\n",
        "\n",
        "import socket\n",
        "import dns.resolver\n",
        "\n",
        "# List of popular domain names\n",
        "domains = ['amazon.com', 'stockx.com', 'ebay.com', 'etsy.com', 'nytimes.com', 'github.com']\n",
        "\n",
        "def get_ip(domain):\n",
        "    try:\n",
        "        return socket.gethostbyname(domain)\n",
        "    except socket.gaierror:\n",
        "        return None\n",
        "\n",
        "def get_dns_servers(domain):\n",
        "    try:\n",
        "        answers = dns.resolver.resolve(domain, 'NS')\n",
        "        return [str(rdata) for rdata in answers]\n",
        "    except dns.resolver.NXDOMAIN:\n",
        "        return None\n",
        "\n",
        "# Function to gather information for each domain\n",
        "def gather_info(domains):\n",
        "    for domain in domains:\n",
        "        print(f\"Gathering information for: {domain}\")\n",
        "\n",
        "        # Get IP address\n",
        "        ip = get_ip(domain)\n",
        "        if ip:\n",
        "            print(f\"IP Address: {ip}\")\n",
        "        else:\n",
        "            print(\"IP Address: Not found\")\n",
        "\n",
        "        # Get DNS servers\n",
        "        dns_servers = get_dns_servers(domain)\n",
        "        if dns_servers:\n",
        "            print(\"DNS Servers:\")\n",
        "            for server in dns_servers:\n",
        "                print(f\" - {server}\")\n",
        "        else:\n",
        "            print(\"DNS Servers: Not found\")\n",
        "\n",
        "        print(\"\\n\")\n",
        "\n",
        "# Gather and print information for the domains\n",
        "gather_info(domains)\n"
      ],
      "metadata": {
        "colab": {
          "base_uri": "https://localhost:8080/"
        },
        "id": "IAsbVQ6kd5yU",
        "outputId": "85421a56-7cf2-4d03-b7f5-b7afbffac534"
      },
      "execution_count": null,
      "outputs": [
        {
          "output_type": "stream",
          "name": "stdout",
          "text": [
            "Collecting dnspython\n",
            "  Downloading dnspython-2.6.1-py3-none-any.whl (307 kB)\n",
            "\u001b[?25l     \u001b[90m━━━━━━━━━━━━━━━━━━━━━━━━━━━━━━━━━━━━━━━━\u001b[0m \u001b[32m0.0/307.7 kB\u001b[0m \u001b[31m?\u001b[0m eta \u001b[36m-:--:--\u001b[0m\r\u001b[2K     \u001b[91m━━━━━━━━━━━━━━━━━━━━━━━━━━\u001b[0m\u001b[91m╸\u001b[0m\u001b[90m━━━━━━━━━━━━━\u001b[0m \u001b[32m204.8/307.7 kB\u001b[0m \u001b[31m5.9 MB/s\u001b[0m eta \u001b[36m0:00:01\u001b[0m\r\u001b[2K     \u001b[90m━━━━━━━━━━━━━━━━━━━━━━━━━━━━━━━━━━━━━━━━\u001b[0m \u001b[32m307.7/307.7 kB\u001b[0m \u001b[31m6.3 MB/s\u001b[0m eta \u001b[36m0:00:00\u001b[0m\n",
            "\u001b[?25hInstalling collected packages: dnspython\n",
            "Successfully installed dnspython-2.6.1\n",
            "Gathering information for: amazon.com\n",
            "IP Address: 54.239.28.85\n",
            "DNS Servers:\n",
            " - ns1.amzndns.co.uk.\n",
            " - ns1.amzndns.com.\n",
            " - ns1.amzndns.net.\n",
            " - ns1.amzndns.org.\n",
            " - ns2.amzndns.co.uk.\n",
            " - ns2.amzndns.com.\n",
            " - ns2.amzndns.net.\n",
            " - ns2.amzndns.org.\n",
            "\n",
            "\n",
            "Gathering information for: stockx.com\n",
            "IP Address: 104.16.109.9\n",
            "DNS Servers:\n",
            " - ivy.ns.cloudflare.com.\n",
            " - peyton.ns.cloudflare.com.\n",
            "\n",
            "\n",
            "Gathering information for: ebay.com\n",
            "IP Address: 23.205.107.83\n",
            "DNS Servers:\n",
            " - dns1.p06.nsone.net.\n",
            " - dns2.p06.nsone.net.\n",
            " - dns3.p06.nsone.net.\n",
            " - dns4.p06.nsone.net.\n",
            " - ns01.ebaydns.com.\n",
            " - ns02.ebaydns.com.\n",
            " - ns03.ebaydns.com.\n",
            " - ns04.ebaydns.com.\n",
            "\n",
            "\n",
            "Gathering information for: etsy.com\n",
            "IP Address: 151.101.129.224\n",
            "DNS Servers:\n",
            " - dns1.p03.nsone.net.\n",
            " - dns3.p03.nsone.net.\n",
            " - ns-1264.awsdns-30.org.\n",
            " - ns-162.awsdns-20.com.\n",
            "\n",
            "\n",
            "Gathering information for: nytimes.com\n",
            "IP Address: 151.101.1.164\n",
            "DNS Servers:\n",
            " - dns1.p06.nsone.net.\n",
            " - dns2.p06.nsone.net.\n",
            " - dns3.p06.nsone.net.\n",
            " - dns4.p06.nsone.net.\n",
            " - ns-1328.awsdns-38.org.\n",
            " - ns-1652.awsdns-14.co.uk.\n",
            " - ns-244.awsdns-30.com.\n",
            " - ns-635.awsdns-15.net.\n",
            "\n",
            "\n",
            "Gathering information for: github.com\n",
            "IP Address: 140.82.113.4\n",
            "DNS Servers:\n",
            " - dns1.p08.nsone.net.\n",
            " - dns2.p08.nsone.net.\n",
            " - dns3.p08.nsone.net.\n",
            " - dns4.p08.nsone.net.\n",
            " - ns-1283.awsdns-32.org.\n",
            " - ns-1707.awsdns-21.co.uk.\n",
            " - ns-421.awsdns-52.com.\n",
            " - ns-520.awsdns-01.net.\n",
            "\n",
            "\n"
          ]
        }
      ]
    },
    {
      "cell_type": "markdown",
      "source": [
        "https://webscraper.io/test-sites\n",
        "\n"
      ],
      "metadata": {
        "id": "HFTKq1hc2vRe"
      }
    }
  ]
}